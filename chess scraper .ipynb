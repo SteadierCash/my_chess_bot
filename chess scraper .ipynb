{
 "cells": [
  {
   "cell_type": "code",
   "execution_count": 1,
   "id": "0c884c0a",
   "metadata": {},
   "outputs": [
    {
     "data": {
      "text/html": [
       "<style>.container { width:70% !important; }</style>"
      ],
      "text/plain": [
       "<IPython.core.display.HTML object>"
      ]
     },
     "metadata": {},
     "output_type": "display_data"
    }
   ],
   "source": [
    "from IPython.display import display, HTML\n",
    "display(HTML(\"<style>.container { width:70% !important; }</style>\"))"
   ]
  },
  {
   "cell_type": "code",
   "execution_count": null,
   "id": "1af6bad4",
   "metadata": {},
   "outputs": [],
   "source": []
  },
  {
   "cell_type": "code",
   "execution_count": 93,
   "id": "a929bc4e",
   "metadata": {},
   "outputs": [],
   "source": [
    "from selenium import webdriver\n",
    "from webdriver_manager.chrome import ChromeDriverManager\n",
    "from selenium.webdriver.common.by import By\n",
    "from selenium.webdriver.common.keys import Keys\n",
    "from selenium.webdriver.support.ui import WebDriverWait\n",
    "from selenium.webdriver.support import expected_conditions as EC\n",
    "import time\n",
    "import pandas as pd \n",
    "import re"
   ]
  },
  {
   "cell_type": "code",
   "execution_count": 98,
   "id": "0ff9b2e5",
   "metadata": {},
   "outputs": [],
   "source": [
    "\n",
    "def login(username, password):\n",
    "    driver.get(\"https://www.chess.com/login\")\n",
    "\n",
    "    username_field = WebDriverWait(driver, 10).until(EC.presence_of_element_located((By.ID, \"username\")))\n",
    "    password_field = WebDriverWait(driver, 10).until(EC.presence_of_element_located((By.ID, \"password\")))\n",
    "\n",
    "    username_field.send_keys(username)\n",
    "    password_field.send_keys(password)\n",
    "    password_field.submit()\n",
    "\n",
    "# Navigate to the game archive\n",
    "def navigate_to_archive():\n",
    "    driver.implicitly_wait(10)  # Wait for any subsequent elements to load\n",
    "    driver.get(\"https://www.chess.com/games/archive?gameOwner=my_game&gameType=live&timeSort=desc&page=1\")\n",
    "\n",
    "    \n",
    "GAMES_URL = \"https://www.chess.com/games/archive?gameOwner=my_game&gameType=live&timeSort=desc&page=1\"\n",
    "# Get the list of recent games\n",
    "# def get_recent_games():\n",
    "#     games = WebDriverWait(driver, 10).until(\n",
    "#         EC.presence_of_all_elements_located((By.CSS_SELECTOR, \".archive-games .game-row\"))\n",
    "#     )\n",
    "#     return games\n",
    "def get_recent_games():\n",
    "    games = []\n",
    "\n",
    "    driver.get(GAMES_URL)\n",
    "    element = driver.find_element(By.TAG_NAME, 'tbody')\n",
    "\n",
    "    # Get all the elements available with tag name 'p'\n",
    "    elements = element.find_elements(By.CLASS_NAME, 'archive-games-background-link')\n",
    "    for e in elements:\n",
    "        href = e.get_attribute(\"href\")\n",
    "        games.append(href)\n",
    "    return games\n",
    "\n",
    "\n",
    "# Main scraping function\n",
    "def scrape_games(username, password):\n",
    "    driver = webdriver.Chrome(ChromeDriverManager().install())\n",
    "    login(username, password)\n",
    "    #navigate_to_archive()\n",
    "    games = get_recent_games()\n",
    "    print(games)\n",
    "#     for game in games:\n",
    "#         download_moves(game)\n",
    "\n",
    "    # Close the browser\n",
    "    driver.quit()\n",
    "\n"
   ]
  },
  {
   "cell_type": "code",
   "execution_count": 97,
   "id": "5fe2a35f",
   "metadata": {},
   "outputs": [
    {
     "name": "stderr",
     "output_type": "stream",
     "text": [
      "C:\\Users\\matip\\AppData\\Local\\Temp/ipykernel_5348/912243045.py:27: DeprecationWarning: executable_path has been deprecated, please pass in a Service object\n",
      "  driver = webdriver.Chrome(ChromeDriverManager().install())\n"
     ]
    },
    {
     "name": "stdout",
     "output_type": "stream",
     "text": [
      "[['e4', 'e5'], ['Nf3', 'Nc6'], ['Bc4', 'Nd4'], ['O-O', 'd6'], ['c3', 'Nc6'], ['d4', 'exd4'], ['cxd4', 'Bg4'], ['Re1', 'g6'], ['Be3', 'Bg7'], ['h3', 'Bxf3'], ['Qxf3', 'Qe7'], ['Rd1', 'O-O-O'], ['Nc3', 'h5'], ['d5', 'Ne5'], ['Qe2', 'Nxc4'], ['Qxc4', 'Nf6'], ['Bxa7', 'g5'], ['Re1', 'h4'], ['Bd4', 'Rhg8'], ['Nb5', 'g4'], ['Bxf6', 'Bxf6'], ['hxg4', 'Be5'], ['Rac1', 'Rd7'], ['Qa4', 'Kd8'], ['Qa8#', None]]\n"
     ]
    }
   ],
   "source": [
    "def get_moves(game):\n",
    "    driver.get(game)\n",
    "    \n",
    "    moves = []\n",
    "    \n",
    "    # Wait for the element to be located\n",
    "    wait = WebDriverWait(driver, 10)\n",
    "    move_list = wait.until(EC.presence_of_element_located((By.TAG_NAME, \"vertical-move-list\")))\n",
    "\n",
    "    elements = move_list.find_elements(By.CLASS_NAME, 'move')\n",
    "    \n",
    "    for e in elements:      \n",
    "        # Find the white move element\n",
    "        white_move_elements = e.find_elements(By.XPATH, './/div[contains(@class, \"white\") or contains(@class, \"white node selected\")]')\n",
    "        white_move = white_move_elements[0].get_attribute(\"innerHTML\") if white_move_elements else None\n",
    "\n",
    "        # Find the black move element\n",
    "        black_move_elements = e.find_elements(By.XPATH, './/div[contains(@class, \"black\") or contains(@class, \"black node selected\")]')\n",
    "        black_move = black_move_elements[0].get_attribute(\"innerHTML\") if black_move_elements else None\n",
    "        \n",
    "        moves.append([white_move, black_move])\n",
    "        \n",
    "    driver.quit()\n",
    "    return moves\n",
    "    \n",
    "    \n",
    "driver = webdriver.Chrome(ChromeDriverManager().install())        \n",
    "print(get_moves('https://www.chess.com/game/live/79397439363'))"
   ]
  },
  {
   "cell_type": "code",
   "execution_count": 2,
   "id": "74a9308d",
   "metadata": {},
   "outputs": [],
   "source": [
    "#scrape_games(\"Username\", \"Password\")"
   ]
  },
  {
   "cell_type": "code",
   "execution_count": null,
   "id": "dc13f090",
   "metadata": {},
   "outputs": [],
   "source": []
  },
  {
   "cell_type": "code",
   "execution_count": null,
   "id": "23655f98",
   "metadata": {},
   "outputs": [],
   "source": []
  },
  {
   "cell_type": "code",
   "execution_count": null,
   "id": "d3d2f315",
   "metadata": {},
   "outputs": [],
   "source": []
  },
  {
   "cell_type": "code",
   "execution_count": null,
   "id": "5b59fa43",
   "metadata": {},
   "outputs": [],
   "source": []
  },
  {
   "cell_type": "code",
   "execution_count": null,
   "id": "c919bc4e",
   "metadata": {},
   "outputs": [],
   "source": []
  },
  {
   "cell_type": "code",
   "execution_count": null,
   "id": "06a14043",
   "metadata": {},
   "outputs": [],
   "source": []
  }
 ],
 "metadata": {
  "kernelspec": {
   "display_name": "Python 3 (ipykernel)",
   "language": "python",
   "name": "python3"
  },
  "language_info": {
   "codemirror_mode": {
    "name": "ipython",
    "version": 3
   },
   "file_extension": ".py",
   "mimetype": "text/x-python",
   "name": "python",
   "nbconvert_exporter": "python",
   "pygments_lexer": "ipython3",
   "version": "3.9.7"
  }
 },
 "nbformat": 4,
 "nbformat_minor": 5
}
